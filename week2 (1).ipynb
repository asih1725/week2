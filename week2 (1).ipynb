{
  "nbformat": 4,
  "nbformat_minor": 0,
  "metadata": {
    "colab": {
      "provenance": []
    },
    "kernelspec": {
      "name": "python3",
      "display_name": "Python 3"
    },
    "language_info": {
      "name": "python"
    }
  },
  "cells": [
    {
      "cell_type": "code",
      "execution_count": null,
      "metadata": {
        "colab": {
          "base_uri": "https://localhost:8080/"
        },
        "id": "wHHMKUWt03JC",
        "outputId": "29f0b6d8-7b55-40d9-957e-405aaa8161a3"
      },
      "outputs": [
        {
          "output_type": "execute_result",
          "data": {
            "text/plain": [
              "11"
            ]
          },
          "metadata": {},
          "execution_count": 23
        }
      ],
      "source": [
        "# Integer\n",
        "11"
      ]
    },
    {
      "cell_type": "code",
      "source": [],
      "metadata": {
        "id": "eesV4P0C13sV"
      },
      "execution_count": null,
      "outputs": []
    },
    {
      "cell_type": "code",
      "source": [],
      "metadata": {
        "id": "vwmFEsln16JV"
      },
      "execution_count": null,
      "outputs": []
    },
    {
      "cell_type": "code",
      "source": [
        "# Float\n",
        "2.14"
      ],
      "metadata": {
        "colab": {
          "base_uri": "https://localhost:8080/"
        },
        "id": "5cjjQqvT1UPw",
        "outputId": "737b8825-f472-4ddb-b271-8dfd7fb453cc"
      },
      "execution_count": null,
      "outputs": [
        {
          "output_type": "execute_result",
          "data": {
            "text/plain": [
              "2.14"
            ]
          },
          "metadata": {},
          "execution_count": 2
        }
      ]
    },
    {
      "cell_type": "code",
      "source": [
        "# String\n",
        "#print(Hello, Python 102!)\n",
        "#print(Hello, Python 101!)\n",
        "\n",
        "\"Hello, Python 102!\"\n",
        "#\"Hello,Python 101!\""
      ],
      "metadata": {
        "colab": {
          "base_uri": "https://localhost:8080/",
          "height": 35
        },
        "id": "q9iu7v_V1aD_",
        "outputId": "5e88c4fd-a0a7-4b6a-a1b9-87fa15e6761c"
      },
      "execution_count": null,
      "outputs": [
        {
          "output_type": "execute_result",
          "data": {
            "text/plain": [
              "'Hello, Python 102!'"
            ],
            "application/vnd.google.colaboratory.intrinsic+json": {
              "type": "string"
            }
          },
          "metadata": {},
          "execution_count": 21
        }
      ]
    },
    {
      "cell_type": "code",
      "source": [
        "# Type of 12\n",
        "\n",
        "type(12)"
      ],
      "metadata": {
        "colab": {
          "base_uri": "https://localhost:8080/"
        },
        "id": "8A2w8bbt2R4f",
        "outputId": "3e8199be-d36c-4b3c-e17f-5294cf6a1b0b"
      },
      "execution_count": null,
      "outputs": [
        {
          "output_type": "execute_result",
          "data": {
            "text/plain": [
              "int"
            ]
          },
          "metadata": {},
          "execution_count": 4
        }
      ]
    },
    {
      "cell_type": "code",
      "source": [
        "# Type of \"Hello, Python 101!\"\n",
        "\n",
        "type(\"Hello, Python 101!\")"
      ],
      "metadata": {
        "colab": {
          "base_uri": "https://localhost:8080/"
        },
        "id": "WZbl01qI2iJ3",
        "outputId": "68032261-af6c-4fcd-fb06-d30d29caf77e"
      },
      "execution_count": null,
      "outputs": [
        {
          "output_type": "execute_result",
          "data": {
            "text/plain": [
              "str"
            ]
          },
          "metadata": {},
          "execution_count": 5
        }
      ]
    },
    {
      "cell_type": "code",
      "source": [
        "# Write your code below. Don't forget to press Shift+Enter to execute the cell\n",
        "type(12.0)"
      ],
      "metadata": {
        "colab": {
          "base_uri": "https://localhost:8080/"
        },
        "id": "0j1iRApH28mP",
        "outputId": "7757b9ac-f079-4975-fd40-ab6cdb17be87"
      },
      "execution_count": null,
      "outputs": [
        {
          "output_type": "execute_result",
          "data": {
            "text/plain": [
              "float"
            ]
          },
          "metadata": {},
          "execution_count": 6
        }
      ]
    },
    {
      "cell_type": "code",
      "source": [
        "# print the type of -01\n",
        "\n",
        "type(-1)"
      ],
      "metadata": {
        "colab": {
          "base_uri": "https://localhost:8080/"
        },
        "id": "JSGtYX8f3erv",
        "outputId": "a7c0a0a7-24f9-4129-db33-328553e1ee20"
      },
      "execution_count": null,
      "outputs": [
        {
          "output_type": "execute_result",
          "data": {
            "text/plain": [
              "int"
            ]
          },
          "metadata": {},
          "execution_count": 7
        }
      ]
    },
    {
      "cell_type": "code",
      "source": [
        "type (-6)"
      ],
      "metadata": {
        "colab": {
          "base_uri": "https://localhost:8080/"
        },
        "id": "thP2AnS13uEP",
        "outputId": "ba677511-d9b3-4d24-db56-f0924c9dd3b4"
      },
      "execution_count": null,
      "outputs": [
        {
          "output_type": "execute_result",
          "data": {
            "text/plain": [
              "int"
            ]
          },
          "metadata": {},
          "execution_count": 8
        }
      ]
    },
    {
      "cell_type": "code",
      "source": [
        "type(4)"
      ],
      "metadata": {
        "colab": {
          "base_uri": "https://localhost:8080/"
        },
        "id": "zcSEyNf73z_H",
        "outputId": "3eb9f564-1bec-4f88-f149-cd023cc4bacf"
      },
      "execution_count": null,
      "outputs": [
        {
          "output_type": "execute_result",
          "data": {
            "text/plain": [
              "int"
            ]
          },
          "metadata": {},
          "execution_count": 9
        }
      ]
    },
    {
      "cell_type": "code",
      "source": [
        "# print the type of 4\n",
        "\n",
        "type(4)"
      ],
      "metadata": {
        "colab": {
          "base_uri": "https://localhost:8080/"
        },
        "id": "pcudxBoZ34lg",
        "outputId": "e78e85ee-1b5e-430a-fd79-98fca200dbcf"
      },
      "execution_count": null,
      "outputs": [
        {
          "output_type": "execute_result",
          "data": {
            "text/plain": [
              "int"
            ]
          },
          "metadata": {},
          "execution_count": 10
        }
      ]
    },
    {
      "cell_type": "code",
      "source": [
        "# print the type of 0\n",
        "\n",
        "type(0)"
      ],
      "metadata": {
        "colab": {
          "base_uri": "https://localhost:8080/"
        },
        "id": "_m3a-g1A4PPX",
        "outputId": "76467730-a57b-4461-8f3e-d074ffe7217b"
      },
      "execution_count": null,
      "outputs": [
        {
          "output_type": "execute_result",
          "data": {
            "text/plain": [
              "int"
            ]
          },
          "metadata": {},
          "execution_count": 11
        }
      ]
    },
    {
      "cell_type": "code",
      "source": [
        "# print the type of 0.5\n",
        "\n",
        "type(0.5)"
      ],
      "metadata": {
        "colab": {
          "base_uri": "https://localhost:8080/"
        },
        "id": "mOHdu-qY4t42",
        "outputId": "97eb37e5-b3fd-47d8-eb27-53ea58ae4299"
      },
      "execution_count": null,
      "outputs": [
        {
          "output_type": "execute_result",
          "data": {
            "text/plain": [
              "float"
            ]
          },
          "metadata": {},
          "execution_count": 12
        }
      ]
    },
    {
      "cell_type": "code",
      "source": [
        "# print the type of 0.56\n",
        "\n",
        "type(0.56)"
      ],
      "metadata": {
        "colab": {
          "base_uri": "https://localhost:8080/"
        },
        "id": "Qh9c5g-g5CJ3",
        "outputId": "464245e0-29d0-4c94-90db-ef51c4922490"
      },
      "execution_count": null,
      "outputs": [
        {
          "output_type": "execute_result",
          "data": {
            "text/plain": [
              "float"
            ]
          },
          "metadata": {},
          "execution_count": 13
        }
      ]
    },
    {
      "cell_type": "code",
      "source": [
        "# system settings about float type\n",
        "import sys # it is needes to declare the library \"sys\" before using it\n",
        "sys.float_info"
      ],
      "metadata": {
        "colab": {
          "base_uri": "https://localhost:8080/"
        },
        "id": "JDSZrwrT5VtW",
        "outputId": "ea2b78ab-6bd2-4415-b804-727d4df6b41c"
      },
      "execution_count": null,
      "outputs": [
        {
          "output_type": "execute_result",
          "data": {
            "text/plain": [
              "sys.float_info(max=1.7976931348623157e+308, max_exp=1024, max_10_exp=308, min=2.2250738585072014e-308, min_exp=-1021, min_10_exp=-307, dig=15, mant_dig=53, epsilon=2.220446049250313e-16, radix=2, rounds=1)"
            ]
          },
          "metadata": {},
          "execution_count": 14
        }
      ]
    },
    {
      "cell_type": "code",
      "source": [
        "#  Verify that this is an integer\n",
        "\n",
        "type(2)"
      ],
      "metadata": {
        "colab": {
          "base_uri": "https://localhost:8080/"
        },
        "id": "E8eTyNEm6Ief",
        "outputId": "276d702d-e985-48ae-e8e8-02c2ee3b03fb"
      },
      "execution_count": null,
      "outputs": [
        {
          "output_type": "execute_result",
          "data": {
            "text/plain": [
              "int"
            ]
          },
          "metadata": {},
          "execution_count": 15
        }
      ]
    },
    {
      "cell_type": "code",
      "source": [
        "# Convert 2 to a float\n",
        "float(2)"
      ],
      "metadata": {
        "colab": {
          "base_uri": "https://localhost:8080/"
        },
        "id": "5wdfJMwg6fNm",
        "outputId": "c016373f-35aa-49c9-c9bf-905b84438cab"
      },
      "execution_count": null,
      "outputs": [
        {
          "output_type": "execute_result",
          "data": {
            "text/plain": [
              "2.0"
            ]
          },
          "metadata": {},
          "execution_count": 27
        }
      ]
    },
    {
      "cell_type": "code",
      "source": [
        "# Convert integer 2 to a float and check its type\n",
        "type(float(2))"
      ],
      "metadata": {
        "colab": {
          "base_uri": "https://localhost:8080/"
        },
        "id": "64U46cqEo9ek",
        "outputId": "3c3b9804-3a5d-4c57-e575-2c1aba3029ee"
      },
      "execution_count": null,
      "outputs": [
        {
          "output_type": "execute_result",
          "data": {
            "text/plain": [
              "float"
            ]
          },
          "metadata": {},
          "execution_count": 28
        }
      ]
    },
    {
      "cell_type": "code",
      "source": [
        "# casting 1.1 to integer will result in loss of information\n",
        "\n",
        "int(1.1)"
      ],
      "metadata": {
        "colab": {
          "base_uri": "https://localhost:8080/"
        },
        "id": "6znGbZ5-pQrd",
        "outputId": "b1200ed9-1c9f-4b92-94d0-3b494491bd54"
      },
      "execution_count": null,
      "outputs": [
        {
          "output_type": "execute_result",
          "data": {
            "text/plain": [
              "1"
            ]
          },
          "metadata": {},
          "execution_count": 30
        }
      ]
    },
    {
      "cell_type": "code",
      "source": [
        "# convert a string into an integer\n",
        "int('1')"
      ],
      "metadata": {
        "colab": {
          "base_uri": "https://localhost:8080/"
        },
        "id": "xwUUl11IpfsH",
        "outputId": "ac3d677c-6dd5-4cb5-be7b-053acf6da635"
      },
      "execution_count": null,
      "outputs": [
        {
          "output_type": "execute_result",
          "data": {
            "text/plain": [
              "1"
            ]
          },
          "metadata": {},
          "execution_count": 31
        }
      ]
    },
    {
      "cell_type": "code",
      "source": [
        "# convert a string into an integer with error\n",
        "int('1 or 2 people')"
      ],
      "metadata": {
        "colab": {
          "base_uri": "https://localhost:8080/",
          "height": 158
        },
        "id": "6qqzVrWBptGq",
        "outputId": "f55f0168-83de-43a4-a182-4965441ddae3"
      },
      "execution_count": null,
      "outputs": [
        {
          "output_type": "error",
          "ename": "ValueError",
          "evalue": "invalid literal for int() with base 10: '1 or 2 people'",
          "traceback": [
            "\u001b[0;31m---------------------------------------------------------------------------\u001b[0m",
            "\u001b[0;31mValueError\u001b[0m                                Traceback (most recent call last)",
            "\u001b[0;32m<ipython-input-32-79040c2869b6>\u001b[0m in \u001b[0;36m<cell line: 2>\u001b[0;34m()\u001b[0m\n\u001b[1;32m      1\u001b[0m \u001b[0;31m# convert a string into an integer with error\u001b[0m\u001b[0;34m\u001b[0m\u001b[0;34m\u001b[0m\u001b[0m\n\u001b[0;32m----> 2\u001b[0;31m \u001b[0mint\u001b[0m\u001b[0;34m(\u001b[0m\u001b[0;34m'1 or 2 people'\u001b[0m\u001b[0;34m)\u001b[0m\u001b[0;34m\u001b[0m\u001b[0;34m\u001b[0m\u001b[0m\n\u001b[0m",
            "\u001b[0;31mValueError\u001b[0m: invalid literal for int() with base 10: '1 or 2 people'"
          ]
        }
      ]
    },
    {
      "cell_type": "code",
      "source": [
        "# convert the string \"1.2\" into a float\n",
        "float('1.2')"
      ],
      "metadata": {
        "colab": {
          "base_uri": "https://localhost:8080/"
        },
        "id": "vbJooJkvp7gO",
        "outputId": "379443d8-a349-4617-cde9-1100e7156262"
      },
      "execution_count": null,
      "outputs": [
        {
          "output_type": "execute_result",
          "data": {
            "text/plain": [
              "1.2"
            ]
          },
          "metadata": {},
          "execution_count": 33
        }
      ]
    },
    {
      "cell_type": "code",
      "source": [
        "# convert an integer to a string\n",
        "str(1)"
      ],
      "metadata": {
        "colab": {
          "base_uri": "https://localhost:8080/",
          "height": 35
        },
        "id": "ST1L5GCnqIWt",
        "outputId": "a11628ad-db66-4bd3-e25d-43e5dce97566"
      },
      "execution_count": null,
      "outputs": [
        {
          "output_type": "execute_result",
          "data": {
            "text/plain": [
              "'1'"
            ],
            "application/vnd.google.colaboratory.intrinsic+json": {
              "type": "string"
            }
          },
          "metadata": {},
          "execution_count": 34
        }
      ]
    },
    {
      "cell_type": "code",
      "source": [
        "# convert a float to a string\n",
        "str(1.2)"
      ],
      "metadata": {
        "colab": {
          "base_uri": "https://localhost:8080/",
          "height": 35
        },
        "id": "8LdgQRPKqZD-",
        "outputId": "fb00029b-ac04-4069-9fbf-a02a3e9d68ae"
      },
      "execution_count": null,
      "outputs": [
        {
          "output_type": "execute_result",
          "data": {
            "text/plain": [
              "'1.2'"
            ],
            "application/vnd.google.colaboratory.intrinsic+json": {
              "type": "string"
            }
          },
          "metadata": {},
          "execution_count": 35
        }
      ]
    },
    {
      "cell_type": "code",
      "source": [
        "# value true\n",
        "\n",
        "True"
      ],
      "metadata": {
        "colab": {
          "base_uri": "https://localhost:8080/"
        },
        "id": "lOV-PH0rqkFZ",
        "outputId": "2c5d99eb-b97a-4ce9-ee46-9d8f69356aba"
      },
      "execution_count": null,
      "outputs": [
        {
          "output_type": "execute_result",
          "data": {
            "text/plain": [
              "True"
            ]
          },
          "metadata": {},
          "execution_count": 36
        }
      ]
    },
    {
      "cell_type": "code",
      "source": [
        "# value false\n",
        "\n",
        "False"
      ],
      "metadata": {
        "colab": {
          "base_uri": "https://localhost:8080/"
        },
        "id": "BUHwP8Ntqt2h",
        "outputId": "c887c185-443d-4256-ebff-f76788dacbe8"
      },
      "execution_count": null,
      "outputs": [
        {
          "output_type": "execute_result",
          "data": {
            "text/plain": [
              "False"
            ]
          },
          "metadata": {},
          "execution_count": 37
        }
      ]
    },
    {
      "cell_type": "code",
      "source": [
        "# type of true\n",
        "\n",
        "type(True)"
      ],
      "metadata": {
        "colab": {
          "base_uri": "https://localhost:8080/"
        },
        "id": "AmIIsYs6q2ap",
        "outputId": "45dfebb7-c185-4b68-f71b-bd47efaf4b02"
      },
      "execution_count": null,
      "outputs": [
        {
          "output_type": "execute_result",
          "data": {
            "text/plain": [
              "bool"
            ]
          },
          "metadata": {},
          "execution_count": 38
        }
      ]
    },
    {
      "cell_type": "code",
      "source": [
        "# type of false\n",
        "\n",
        "type(False)"
      ],
      "metadata": {
        "colab": {
          "base_uri": "https://localhost:8080/"
        },
        "id": "pRVE7axlq-6O",
        "outputId": "e45100be-8ae0-4bb7-a9b6-07f4143f8418"
      },
      "execution_count": null,
      "outputs": [
        {
          "output_type": "execute_result",
          "data": {
            "text/plain": [
              "bool"
            ]
          },
          "metadata": {},
          "execution_count": 39
        }
      ]
    },
    {
      "cell_type": "code",
      "source": [
        "# convert true to int\n",
        "\n",
        "int(True)"
      ],
      "metadata": {
        "colab": {
          "base_uri": "https://localhost:8080/"
        },
        "id": "UaaBa211rPHe",
        "outputId": "771b0fab-8eae-4ebb-9d9e-750b8c7237d3"
      },
      "execution_count": null,
      "outputs": [
        {
          "output_type": "execute_result",
          "data": {
            "text/plain": [
              "1"
            ]
          },
          "metadata": {},
          "execution_count": 40
        }
      ]
    },
    {
      "cell_type": "code",
      "source": [
        "# convert 1 to boolean\n",
        "\n",
        "bool(1)"
      ],
      "metadata": {
        "colab": {
          "base_uri": "https://localhost:8080/"
        },
        "id": "IXvG9Aygraq3",
        "outputId": "10bd302b-58c2-4f84-a4d0-78674846cfef"
      },
      "execution_count": null,
      "outputs": [
        {
          "output_type": "execute_result",
          "data": {
            "text/plain": [
              "True"
            ]
          },
          "metadata": {},
          "execution_count": 41
        }
      ]
    },
    {
      "cell_type": "code",
      "source": [
        "# convert 0 to boolean\n",
        "\n",
        "bool(0)"
      ],
      "metadata": {
        "colab": {
          "base_uri": "https://localhost:8080/"
        },
        "id": "sQbb0h2Lrj4q",
        "outputId": "d880d32c-fe20-4d6c-b1d9-95fd0e1478ff"
      },
      "execution_count": null,
      "outputs": [
        {
          "output_type": "execute_result",
          "data": {
            "text/plain": [
              "False"
            ]
          },
          "metadata": {},
          "execution_count": 42
        }
      ]
    },
    {
      "cell_type": "code",
      "source": [
        "# convert true to float\n",
        "\n",
        "float(True)"
      ],
      "metadata": {
        "colab": {
          "base_uri": "https://localhost:8080/"
        },
        "id": "-yiwlHTCr1Fp",
        "outputId": "ea866bbd-d1ed-49c4-cf41-1cbdaf1ab728"
      },
      "execution_count": null,
      "outputs": [
        {
          "output_type": "execute_result",
          "data": {
            "text/plain": [
              "1.0"
            ]
          },
          "metadata": {},
          "execution_count": 44
        }
      ]
    },
    {
      "cell_type": "code",
      "source": [
        "# write your code below. Don't forget to press Shift+End to execute the cell\n",
        "type(6//2)"
      ],
      "metadata": {
        "colab": {
          "base_uri": "https://localhost:8080/"
        },
        "id": "pApajSoRsArr",
        "outputId": "29da8fc5-5e1b-4efe-83d9-94ffdc8c097d"
      },
      "execution_count": null,
      "outputs": [
        {
          "output_type": "execute_result",
          "data": {
            "text/plain": [
              "int"
            ]
          },
          "metadata": {},
          "execution_count": 45
        }
      ]
    },
    {
      "cell_type": "code",
      "source": [
        "# Addition operation expression\n",
        "\n",
        "#43 + 60 + 16 + 41\n",
        "\n",
        "type (10.55+10.5-5)"
      ],
      "metadata": {
        "colab": {
          "base_uri": "https://localhost:8080/"
        },
        "id": "q2Fn88zBtMcI",
        "outputId": "df6d6a84-4310-4351-ad54-986c98275b23"
      },
      "execution_count": null,
      "outputs": [
        {
          "output_type": "execute_result",
          "data": {
            "text/plain": [
              "float"
            ]
          },
          "metadata": {},
          "execution_count": 46
        }
      ]
    },
    {
      "cell_type": "code",
      "source": [
        "# subtraction operation expression\n",
        "\n",
        "type(50 - 60)"
      ],
      "metadata": {
        "colab": {
          "base_uri": "https://localhost:8080/"
        },
        "id": "R9Q0qSfSt6YJ",
        "outputId": "43defc3e-f6be-4c2a-fdc2-37f7d904153d"
      },
      "execution_count": null,
      "outputs": [
        {
          "output_type": "execute_result",
          "data": {
            "text/plain": [
              "int"
            ]
          },
          "metadata": {},
          "execution_count": 47
        }
      ]
    },
    {
      "cell_type": "code",
      "source": [
        "# multiplication operation expression\n",
        "\n",
        "5 * 5"
      ],
      "metadata": {
        "colab": {
          "base_uri": "https://localhost:8080/"
        },
        "id": "xyu0W_ZtuN2Z",
        "outputId": "29140872-ea81-42b8-d5a0-4bfccdd6e107"
      },
      "execution_count": null,
      "outputs": [
        {
          "output_type": "execute_result",
          "data": {
            "text/plain": [
              "25"
            ]
          },
          "metadata": {},
          "execution_count": 48
        }
      ]
    },
    {
      "cell_type": "code",
      "source": [
        "# division operation expression\n",
        "\n",
        "25 / 5"
      ],
      "metadata": {
        "colab": {
          "base_uri": "https://localhost:8080/"
        },
        "id": "FwRJbImNu72F",
        "outputId": "488e9a92-12ed-4e72-9e2b-15f2b366ec5c"
      },
      "execution_count": null,
      "outputs": [
        {
          "output_type": "execute_result",
          "data": {
            "text/plain": [
              "5.0"
            ]
          },
          "metadata": {},
          "execution_count": 49
        }
      ]
    },
    {
      "cell_type": "code",
      "source": [
        "# division operation expression\n",
        "\n",
        "25 / 6"
      ],
      "metadata": {
        "colab": {
          "base_uri": "https://localhost:8080/"
        },
        "id": "pxjTA80uvJD8",
        "outputId": "9fa99f50-83b1-48fd-ccac-e33abaf1d591"
      },
      "execution_count": null,
      "outputs": [
        {
          "output_type": "execute_result",
          "data": {
            "text/plain": [
              "4.166666666666667"
            ]
          },
          "metadata": {},
          "execution_count": 51
        }
      ]
    },
    {
      "cell_type": "code",
      "source": [
        "# integer division operation expression\n",
        "\n",
        "25 // 5"
      ],
      "metadata": {
        "colab": {
          "base_uri": "https://localhost:8080/"
        },
        "id": "Q_rwTFFUvX0F",
        "outputId": "21453cc4-2c8e-44cf-b402-55676a112ef2"
      },
      "execution_count": null,
      "outputs": [
        {
          "output_type": "execute_result",
          "data": {
            "text/plain": [
              "5"
            ]
          },
          "metadata": {},
          "execution_count": 52
        }
      ]
    },
    {
      "cell_type": "code",
      "source": [
        "# integer division operation expression\n",
        "\n",
        "25 // 6"
      ],
      "metadata": {
        "colab": {
          "base_uri": "https://localhost:8080/"
        },
        "id": "gtdHhTJdvjMQ",
        "outputId": "574be3e3-8eef-40b2-84e6-861321763be7"
      },
      "execution_count": null,
      "outputs": [
        {
          "output_type": "execute_result",
          "data": {
            "text/plain": [
              "4"
            ]
          },
          "metadata": {},
          "execution_count": 53
        }
      ]
    },
    {
      "cell_type": "code",
      "source": [
        "# writw your code below. Don't forget to press shift+enter to executive the cell\n",
        "160/60"
      ],
      "metadata": {
        "colab": {
          "base_uri": "https://localhost:8080/"
        },
        "id": "YlGuDBTLvv9o",
        "outputId": "ece04523-e9bb-4dfa-a735-3ad70951281f"
      },
      "execution_count": null,
      "outputs": [
        {
          "output_type": "execute_result",
          "data": {
            "text/plain": [
              "2.6666666666666665"
            ]
          },
          "metadata": {},
          "execution_count": 54
        }
      ]
    },
    {
      "cell_type": "code",
      "source": [
        "# mathematical expression\n",
        "\n",
        "30 + 2 * 60 // 10"
      ],
      "metadata": {
        "colab": {
          "base_uri": "https://localhost:8080/"
        },
        "id": "Fp_y0BhjwIhX",
        "outputId": "8f429f2d-d2db-4423-8c44-9cddc0d3bc1d"
      },
      "execution_count": null,
      "outputs": [
        {
          "output_type": "execute_result",
          "data": {
            "text/plain": [
              "42"
            ]
          },
          "metadata": {},
          "execution_count": 56
        }
      ]
    },
    {
      "cell_type": "code",
      "source": [
        "# mathematical expression\n",
        "\n",
        "(30 + 2) * 60"
      ],
      "metadata": {
        "colab": {
          "base_uri": "https://localhost:8080/"
        },
        "id": "s0wfqv2uwYz_",
        "outputId": "3d987679-3a4d-4599-b268-93e7db45e76d"
      },
      "execution_count": null,
      "outputs": [
        {
          "output_type": "execute_result",
          "data": {
            "text/plain": [
              "1920"
            ]
          },
          "metadata": {},
          "execution_count": 58
        }
      ]
    },
    {
      "cell_type": "code",
      "source": [
        "# store value into variable\n",
        "\n",
        "x = 43 + 60 + 16 + 41\n",
        "x"
      ],
      "metadata": {
        "colab": {
          "base_uri": "https://localhost:8080/"
        },
        "id": "z2GrIiFCw3mk",
        "outputId": "b619278d-030b-4176-a40a-b779abea5f89"
      },
      "execution_count": null,
      "outputs": [
        {
          "output_type": "execute_result",
          "data": {
            "text/plain": [
              "160"
            ]
          },
          "metadata": {},
          "execution_count": 60
        }
      ]
    },
    {
      "cell_type": "code",
      "source": [
        "# print out the value in variable\n",
        "\n",
        "x = 43 + 60 + 16 + 41\n",
        "x"
      ],
      "metadata": {
        "colab": {
          "base_uri": "https://localhost:8080/"
        },
        "id": "xxsLmIe3xbxt",
        "outputId": "2320aa70-796f-40b2-c91d-01ca11498cdb"
      },
      "execution_count": null,
      "outputs": [
        {
          "output_type": "execute_result",
          "data": {
            "text/plain": [
              "160"
            ]
          },
          "metadata": {},
          "execution_count": 61
        }
      ]
    },
    {
      "cell_type": "code",
      "source": [
        "# use another variable to store the result of the operation betwen variable and value\n",
        "\n",
        "y = x / 60\n",
        "y"
      ],
      "metadata": {
        "colab": {
          "base_uri": "https://localhost:8080/"
        },
        "id": "jnRrOk7PyJQo",
        "outputId": "cac3d3ae-27c8-4cd8-ad3d-ef8f9ad9990c"
      },
      "execution_count": null,
      "outputs": [
        {
          "output_type": "execute_result",
          "data": {
            "text/plain": [
              "2.6666666666666665"
            ]
          },
          "metadata": {},
          "execution_count": 63
        }
      ]
    },
    {
      "cell_type": "code",
      "source": [
        "# overwrite variable with new value\n",
        "\n",
        "x = x / 60\n",
        "print(x)"
      ],
      "metadata": {
        "colab": {
          "base_uri": "https://localhost:8080/"
        },
        "id": "MsuY6t5Iynd_",
        "outputId": "f0bd7571-768c-41db-887a-5367e74becb6"
      },
      "execution_count": null,
      "outputs": [
        {
          "output_type": "stream",
          "name": "stdout",
          "text": [
            "2.6666666666666665\n"
          ]
        }
      ]
    },
    {
      "cell_type": "code",
      "source": [
        "x"
      ],
      "metadata": {
        "colab": {
          "base_uri": "https://localhost:8080/"
        },
        "id": "Gt_hwSHpyJKq",
        "outputId": "e05c1b32-ff91-445f-b798-3dcfc503d68d"
      },
      "execution_count": null,
      "outputs": [
        {
          "output_type": "execute_result",
          "data": {
            "text/plain": [
              "2.6666666666666665"
            ]
          },
          "metadata": {},
          "execution_count": 66
        }
      ]
    },
    {
      "cell_type": "code",
      "source": [
        "# name the variable meaningfully\n",
        "\n",
        "total_min = 43 + 42 + 57 # total length of albums in ,inutes\n",
        "total_min"
      ],
      "metadata": {
        "colab": {
          "base_uri": "https://localhost:8080/"
        },
        "id": "0es3gfMgzChe",
        "outputId": "209c154d-5dfe-4d5e-d4df-441f1ee5397b"
      },
      "execution_count": null,
      "outputs": [
        {
          "output_type": "execute_result",
          "data": {
            "text/plain": [
              "142"
            ]
          },
          "metadata": {},
          "execution_count": 67
        }
      ]
    },
    {
      "cell_type": "code",
      "source": [
        "# name the variable meaningfully\n",
        "\n",
        "total_min = 43 + 42 + 57 # total length of albums in minutes\n",
        "total_min"
      ],
      "metadata": {
        "colab": {
          "base_uri": "https://localhost:8080/"
        },
        "id": "Bq0h8FiBz6X8",
        "outputId": "ff2498c5-5875-49fc-dc74-c7f2df89213c"
      },
      "execution_count": null,
      "outputs": [
        {
          "output_type": "execute_result",
          "data": {
            "text/plain": [
              "142"
            ]
          },
          "metadata": {},
          "execution_count": 68
        }
      ]
    },
    {
      "cell_type": "code",
      "source": [
        "float(total_min)"
      ],
      "metadata": {
        "colab": {
          "base_uri": "https://localhost:8080/"
        },
        "id": "lc6Ca6gS0UdI",
        "outputId": "3c2d0bff-3540-4d37-a27b-7569221d9a97"
      },
      "execution_count": null,
      "outputs": [
        {
          "output_type": "execute_result",
          "data": {
            "text/plain": [
              "142.0"
            ]
          },
          "metadata": {},
          "execution_count": 69
        }
      ]
    },
    {
      "cell_type": "code",
      "source": [
        "a=2\n",
        "a"
      ],
      "metadata": {
        "colab": {
          "base_uri": "https://localhost:8080/"
        },
        "id": "ZFrQR0HE0ZvR",
        "outputId": "4a392337-a11e-42b2-f4ef-bb7f796cf169"
      },
      "execution_count": null,
      "outputs": [
        {
          "output_type": "execute_result",
          "data": {
            "text/plain": [
              "2"
            ]
          },
          "metadata": {},
          "execution_count": 70
        }
      ]
    },
    {
      "cell_type": "code",
      "source": [
        "print(float(a))"
      ],
      "metadata": {
        "colab": {
          "base_uri": "https://localhost:8080/"
        },
        "id": "2R04nrUx0i-R",
        "outputId": "35ebfb23-a05b-4d49-e5a7-b48b534c7ac7"
      },
      "execution_count": null,
      "outputs": [
        {
          "output_type": "stream",
          "name": "stdout",
          "text": [
            "2.0\n"
          ]
        }
      ]
    },
    {
      "cell_type": "code",
      "source": [
        "# name the variables meaningfully\n",
        "\n",
        "total_hours = total_min / 60 # total length of albums in hours\n",
        "total_hours"
      ],
      "metadata": {
        "colab": {
          "base_uri": "https://localhost:8080/"
        },
        "id": "7KsnXoH90soq",
        "outputId": "8b4c41ba-5c0c-4150-a965-eb228e1c1b31"
      },
      "execution_count": null,
      "outputs": [
        {
          "output_type": "execute_result",
          "data": {
            "text/plain": [
              "2.3666666666666667"
            ]
          },
          "metadata": {},
          "execution_count": 72
        }
      ]
    },
    {
      "cell_type": "code",
      "source": [
        "# complicate expression\n",
        "\n",
        "total_hours = (43 + 42 + 57) / 60 # total hours in a single expression\n",
        "total_hours"
      ],
      "metadata": {
        "colab": {
          "base_uri": "https://localhost:8080/"
        },
        "id": "MM5Hh1Gh1MZx",
        "outputId": "1fda45a4-0f43-4a7e-f295-b3b623057475"
      },
      "execution_count": null,
      "outputs": [
        {
          "output_type": "execute_result",
          "data": {
            "text/plain": [
              "2.3666666666666667"
            ]
          },
          "metadata": {},
          "execution_count": 73
        }
      ]
    },
    {
      "cell_type": "code",
      "source": [
        "# write your code below. don't forget to press shift+enter to execute the cell\n",
        "x = 3 + 2 * 2\n",
        "x"
      ],
      "metadata": {
        "colab": {
          "base_uri": "https://localhost:8080/"
        },
        "id": "vijo6aM81tkQ",
        "outputId": "1bcc7622-ca2d-4b13-f435-66e9599dd785"
      },
      "execution_count": null,
      "outputs": [
        {
          "output_type": "execute_result",
          "data": {
            "text/plain": [
              "7"
            ]
          },
          "metadata": {},
          "execution_count": 74
        }
      ]
    },
    {
      "cell_type": "code",
      "source": [
        "# write your code below. don't forgrt to press shift+enter to execute the cell\n",
        "y = (3 + 2) * 2\n",
        "y"
      ],
      "metadata": {
        "colab": {
          "base_uri": "https://localhost:8080/"
        },
        "id": "zFXrkxfw2QtH",
        "outputId": "dda81132-5baf-4a62-f05b-4d49f8691401"
      },
      "execution_count": null,
      "outputs": [
        {
          "output_type": "execute_result",
          "data": {
            "text/plain": [
              "10"
            ]
          },
          "metadata": {},
          "execution_count": 75
        }
      ]
    },
    {
      "cell_type": "code",
      "source": [
        "# write your code below. don't forget to press Shift+Enter to execute the cell\n",
        "x = x + y\n",
        "x\n"
      ],
      "metadata": {
        "colab": {
          "base_uri": "https://localhost:8080/",
          "height": 200
        },
        "id": "hwqke-L72uOm",
        "outputId": "9e0ea05c-94bc-49b4-8694-8fab85958988"
      },
      "execution_count": null,
      "outputs": [
        {
          "output_type": "error",
          "ename": "NameError",
          "evalue": "name 'x' is not defined",
          "traceback": [
            "\u001b[0;31m---------------------------------------------------------------------------\u001b[0m",
            "\u001b[0;31mNameError\u001b[0m                                 Traceback (most recent call last)",
            "\u001b[0;32m<ipython-input-6-6955895a48f8>\u001b[0m in \u001b[0;36m<cell line: 2>\u001b[0;34m()\u001b[0m\n\u001b[1;32m      1\u001b[0m \u001b[0;31m# write your code below. don't forget to press Shift+Enter to execute the cell\u001b[0m\u001b[0;34m\u001b[0m\u001b[0;34m\u001b[0m\u001b[0m\n\u001b[0;32m----> 2\u001b[0;31m \u001b[0my\u001b[0m \u001b[0;34m=\u001b[0m \u001b[0mx\u001b[0m \u001b[0;34m+\u001b[0m \u001b[0my\u001b[0m\u001b[0;34m\u001b[0m\u001b[0;34m\u001b[0m\u001b[0m\n\u001b[0m\u001b[1;32m      3\u001b[0m \u001b[0my\u001b[0m\u001b[0;34m\u001b[0m\u001b[0;34m\u001b[0m\u001b[0m\n",
            "\u001b[0;31mNameError\u001b[0m: name 'x' is not defined"
          ]
        }
      ]
    },
    {
      "cell_type": "code",
      "source": [
        "panjang = 20.5 #menggunakan titik desimal untuk bilangan float\n",
        "lebar = 25\n",
        "tinggi = 10\n",
        "\n",
        "keliling = 2 * (panjang + lebar)\n",
        "luas = panjang * lebar\n",
        "volume = panjang * lebar * tinggi\n",
        "\n",
        "print(\"panjang =\", panjang)\n",
        "print(\"lebar =\", lebar)\n",
        "print(\"tinggi =\", tinggi)\n",
        "print(\"keliling =\", keliling)\n",
        "print(\"volume =\", volume)\n"
      ],
      "metadata": {
        "colab": {
          "base_uri": "https://localhost:8080/"
        },
        "id": "2oCWd7kr2Ah2",
        "outputId": "80e9c13e-9828-4e49-c553-0ba3fd8701b3"
      },
      "execution_count": null,
      "outputs": [
        {
          "output_type": "stream",
          "name": "stdout",
          "text": [
            "panjang = 20.5\n",
            "lebar = 25\n",
            "tinggi = 10\n",
            "keliling = 91.0\n",
            "volume = 5125.0\n"
          ]
        }
      ]
    },
    {
      "cell_type": "code",
      "source": [
        "# Kamus data (dictionary)\n",
        "nilai_mahasiswa = {\n",
        "    \"Shafira\": {\"Kalkulus 1\": 85, \"Metode Statistika\": 75},\n",
        "    \"Amanda\": {\"Kalkulus 1\": 80, \"Metode Statistika\": 90},\n",
        "    \"Aditya\": {\"Kalkulus 1\": 75, \"Metode Statistika\": 80},\n",
        "    \"Nedia\": {\"Kalkulus 1\": 95, \"Metode Statistika\": 80},\n",
        "    \"Widya\": {\"Kalkulus 1\": 85, \"Metode Statistika\": 85},\n",
        "    \"Hanif\": {\"Kalkulus 1\": 75, \"Metode Statistika\": 90}, # Removed extra space in \"Kalkulus 1\"\n",
        "    \"Andi\": {\"Kalkulus 1\": 70, \"Metode Statistika\": 75},\n",
        "    \"Dhanar\": {\"Kalkulus 1\": 85, \"Metode Statistika\": 85},\n",
        "    \"Hikma\": {\"Kalkulus 1\": 80, \"Metode Statistika\": 75}\n",
        "}\n",
        "\n",
        "# Fungsi untuk menghitung rata-rata\n",
        "def hitung_rata_rata(list_nilai):\n",
        "    return sum(list_nilai) / len(list_nilai)\n",
        "\n",
        "# Perhitungan dan tampilan hasil\n",
        "# 1. Rata-rata nilai Shafira pada kedua mata kuliah\n",
        "rata_rata_shafira = hitung_rata_rata(nilai_mahasiswa[\"Shafira\"].values())\n",
        "print(\"Rata-rata nilai Shafira:\", rata_rata_shafira)\n",
        "\n",
        "# 2. Jumlah nilai Hanif dan Andi untuk semua mata kuliah\n",
        "jumlah_hanif_andi = sum(nilai_mahasiswa[\"Hanif\"].values()) + sum(nilai_mahasiswa[\"Andi\"].values())\n",
        "print(\"Jumlah nilai Hanif dan Andi:\", jumlah_hanif_andi)\n",
        "\n",
        "# 3. Rata-rata nilai Widya, Dhanar, Hikma dan Nedia pada masing-masing mata kuliah\n",
        "rata_rata_wdhdhn = {\n",
        "    \"Kalkulus 1\": hitung_rata_rata([nilai_mahasiswa[m][\"Kalkulus 1\"] for m in [\"Widya\", \"Dhanar\", \"Hikma\"]]),\n",
        "    \"Metode Statistika\": hitung_rata_rata([nilai_mahasiswa[m][\"Metode Statistika\"] for m in [\"Widya\", \"Dhanar\", \"Hikma\"]])\n",
        "}\n",
        "print(\"Rata-rata nilai Widya, Dhanar, dan Hikma:\")\n",
        "for mata_kuliah, rata_rata in rata_rata_wdhdhn.items():\n",
        "    print(f\"{mata_kuliah}: {rata_rata}\")\n",
        "\n",
        "# 4. Rata-rata nilai mata kuliah Kalkulus 1 untuk semua mahasiswa\n",
        "rata_rata_kalkulus1 = hitung_rata_rata([nilai_mahasiswa[m][\"Kalkulus 1\"] for m in nilai_mahasiswa])\n",
        "print(\"Rata-rata nilai Kalkulus 1:\", rata_rata_kalkulus1)\n",
        "\n",
        "# 5. Rata-rata nilai mata kuliah Metode Statistika untuk semua mahasiswa\n",
        "rata_rata_statistika = hitung_rata_rata([nilai_mahasiswa[m][\"Metode Statistika\"] for m in nilai_mahasiswa])\n",
        "print(\"Rata-rata nilai Metode Statistika:\", rata_rata_statistika)"
      ],
      "metadata": {
        "colab": {
          "base_uri": "https://localhost:8080/"
        },
        "id": "ogOjjmsZ55W_",
        "outputId": "cb61da41-3219-4c45-8f9b-3c1d1e5b898c"
      },
      "execution_count": null,
      "outputs": [
        {
          "output_type": "stream",
          "name": "stdout",
          "text": [
            "Rata-rata nilai Shafira: 80.0\n",
            "Jumlah nilai Hanif dan Andi: 310\n",
            "Rata-rata nilai Widya, Dhanar, dan Hikma:\n",
            "Kalkulus 1: 83.33333333333333\n",
            "Metode Statistika: 81.66666666666667\n",
            "Rata-rata nilai Kalkulus 1: 81.11111111111111\n",
            "Rata-rata nilai Metode Statistika: 81.66666666666667\n"
          ]
        }
      ]
    },
    {
      "cell_type": "code",
      "source": [
        "# gaji per jam kerja\n",
        "gaji_per_jam = 30000\n",
        "\n",
        "# jumlah jam kerja dalam sehari\n",
        "jam_kerja_sehari = 8\n",
        "\n",
        "# tunjangan untuk karyawan lebih dari 5 tahun (10% dari gaji pokok)\n",
        "tunjangan_lebih_5_tahun = 0.1\n",
        "\n",
        "# gaji lembur per jam\n",
        "gaji_lembur_per_jam = 10000\n",
        "\n",
        "# jumlah hari kerja di bulan agustus (asumsi 31 hari)\n",
        "jumlah_hari_kerja = 31\n",
        "\n",
        "# jumlah hari kerja di bulan agustus (libur 3 hari)\n",
        "jumlah_hari_kerja_libur = 28\n",
        "\n",
        "# hitung gaji pokok (asumsi tidak ada hari libur)\n",
        "gaji_pokok = jumlah_hari_kerja * jam_kerja_sehari * gaji_per_jam\n",
        "\n",
        "# hitung gaji libur 3 hari\n",
        "gaji_libur = jumlah_hari_kerja_libur * jam_kerja_sehari * gaji_per_jam\n",
        "\n",
        "# hitung tunjangan (asumsi dwi sudah bekerja lebih dari 5 tahun)\n",
        "tunjangan = gaji_pokok * tunjangan_lebih_5_tahun\n",
        "\n",
        "# hitung gaji lembur (asumsi dwi lwmbur 5 jam)\n",
        "jumlah_jam_lembur = 5\n",
        "gaji_lembur = jumlah_jam_lembur * gaji_lembur_per_jam\n",
        "\n",
        "# hitung gaji total\n",
        "gaji_total = gaji_pokok + tunjangan + gaji_lembur\n",
        "\n",
        "# hitung gaji tunjangan\n",
        "gaji_tunjangan = gaji_pokok + tunjangan\n",
        "\n",
        "\n",
        "\n",
        "# tampilkan hasil\n",
        "print(\"gaji pokok dwi:\", gaji_pokok)\n",
        "print(\"gaji dwi dengan libur 3 hari:\", gaji_libur)\n",
        "print(\"tunjangan dwi:\", tunjangan)\n",
        "print(\"total gaji dengan tunjangan dwi:\", gaji_tunjangan)\n",
        "print(\"gaji lembur dwi:\", gaji_lembur)\n",
        "print(\"total gaji lembur dwi:\", gaji_total)"
      ],
      "metadata": {
        "colab": {
          "base_uri": "https://localhost:8080/"
        },
        "id": "0NmqcsjEUcNx",
        "outputId": "9fff7567-6176-46c4-eebf-c9c3af6c2745"
      },
      "execution_count": null,
      "outputs": [
        {
          "output_type": "stream",
          "name": "stdout",
          "text": [
            "gaji pokok dwi: 7440000\n",
            "gaji dwi dengan libur 3 hari: 6720000\n",
            "tunjangan dwi: 744000.0\n",
            "total gaji dengan tunjangan dwi: 8184000.0\n",
            "gaji lembur dwi: 50000\n",
            "total gaji lembur dwi: 8234000.0\n"
          ]
        }
      ]
    },
    {
      "cell_type": "code",
      "source": [
        "! git --version"
      ],
      "metadata": {
        "colab": {
          "base_uri": "https://localhost:8080/"
        },
        "id": "W13dZd1OcsYq",
        "outputId": "30cf29a5-ce85-484f-bcd5-21a35b78499b"
      },
      "execution_count": 1,
      "outputs": [
        {
          "output_type": "stream",
          "name": "stdout",
          "text": [
            "git version 2.34.1\n"
          ]
        }
      ]
    },
    {
      "cell_type": "code",
      "source": [
        "!git config --global user.name \"asih1725\"\n",
        "!git config --global user.email setyaasih34@gmail.com"
      ],
      "metadata": {
        "id": "OVUeXStKc5z0"
      },
      "execution_count": 2,
      "outputs": []
    },
    {
      "cell_type": "code",
      "source": [],
      "metadata": {
        "id": "_sJZxS3YeDU6"
      },
      "execution_count": null,
      "outputs": []
    },
    {
      "cell_type": "code",
      "source": [],
      "metadata": {
        "id": "zPLIczwSeEDp"
      },
      "execution_count": null,
      "outputs": []
    },
    {
      "cell_type": "code",
      "source": [
        "!ls"
      ],
      "metadata": {
        "colab": {
          "base_uri": "https://localhost:8080/"
        },
        "id": "8i6EaeWVeS5q",
        "outputId": "2bbbaeec-8a31-4485-befb-09bb9a4fd0a9"
      },
      "execution_count": 5,
      "outputs": [
        {
          "output_type": "stream",
          "name": "stdout",
          "text": [
            "sample_data  week2\n"
          ]
        }
      ]
    },
    {
      "cell_type": "code",
      "source": [
        "%cd week2"
      ],
      "metadata": {
        "colab": {
          "base_uri": "https://localhost:8080/"
        },
        "id": "qgrtFzEielzK",
        "outputId": "33b68e6f-edc9-422d-caba-d589be55e5ee"
      },
      "execution_count": 6,
      "outputs": [
        {
          "output_type": "stream",
          "name": "stdout",
          "text": [
            "/content/week2\n"
          ]
        }
      ]
    },
    {
      "cell_type": "code",
      "source": [
        "!git status"
      ],
      "metadata": {
        "colab": {
          "base_uri": "https://localhost:8080/"
        },
        "id": "L9h6AXW8es6Y",
        "outputId": "4c7c88e2-6000-4e88-ed9a-5561947bff1d"
      },
      "execution_count": 7,
      "outputs": [
        {
          "output_type": "stream",
          "name": "stdout",
          "text": [
            "On branch main\n",
            "\n",
            "No commits yet\n",
            "\n",
            "nothing to commit (create/copy files and use \"git add\" to track)\n"
          ]
        }
      ]
    },
    {
      "cell_type": "code",
      "source": [
        "!echo \"# some dummy text\" >> new.md"
      ],
      "metadata": {
        "id": "9KADN_8ne4FD"
      },
      "execution_count": 8,
      "outputs": []
    },
    {
      "cell_type": "code",
      "source": [
        "!git status"
      ],
      "metadata": {
        "colab": {
          "base_uri": "https://localhost:8080/"
        },
        "id": "Lesl7T5gffjx",
        "outputId": "a2d777bd-47e2-4f97-de6f-ecd3400498ac"
      },
      "execution_count": 9,
      "outputs": [
        {
          "output_type": "stream",
          "name": "stdout",
          "text": [
            "On branch main\n",
            "\n",
            "No commits yet\n",
            "\n",
            "Untracked files:\n",
            "  (use \"git add <file>...\" to include in what will be committed)\n",
            "\t\u001b[31mnew.md\u001b[m\n",
            "\n",
            "nothing added to commit but untracked files present (use \"git add\" to track)\n"
          ]
        }
      ]
    },
    {
      "cell_type": "code",
      "source": [
        "!git add new.md"
      ],
      "metadata": {
        "id": "no9DWqX6gHO2"
      },
      "execution_count": 13,
      "outputs": []
    },
    {
      "cell_type": "code",
      "source": [
        "!git commit -m \"committing from colab\""
      ],
      "metadata": {
        "colab": {
          "base_uri": "https://localhost:8080/"
        },
        "id": "OR0E3ZBggZ0A",
        "outputId": "f5c1e5ee-bbb8-4af1-88ad-238ba4325617"
      },
      "execution_count": 14,
      "outputs": [
        {
          "output_type": "stream",
          "name": "stdout",
          "text": [
            "[main (root-commit) e1a38b2] committing from colab\n",
            " 1 file changed, 1 insertion(+)\n",
            " create mode 100644 new.md\n"
          ]
        }
      ]
    },
    {
      "cell_type": "code",
      "source": [
        "!git push"
      ],
      "metadata": {
        "colab": {
          "base_uri": "https://localhost:8080/"
        },
        "id": "aux22lnWgkhE",
        "outputId": "a88993d2-0ce1-4841-b5c9-9f2acc0abcdb"
      },
      "execution_count": 15,
      "outputs": [
        {
          "output_type": "stream",
          "name": "stdout",
          "text": [
            "Enumerating objects: 3, done.\n",
            "Counting objects:  33% (1/3)\rCounting objects:  66% (2/3)\rCounting objects: 100% (3/3)\rCounting objects: 100% (3/3), done.\n",
            "Writing objects:  33% (1/3)\rWriting objects:  66% (2/3)\rWriting objects: 100% (3/3)\rWriting objects: 100% (3/3), 230 bytes | 230.00 KiB/s, done.\n",
            "Total 3 (delta 0), reused 0 (delta 0), pack-reused 0\n",
            "To https://github.com/asih1725/week2.git\n",
            " * [new branch]      main -> main\n"
          ]
        }
      ]
    }
  ]
}